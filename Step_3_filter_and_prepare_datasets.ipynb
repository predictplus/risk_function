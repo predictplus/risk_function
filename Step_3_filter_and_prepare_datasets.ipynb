{
 "cells": [
  {
   "cell_type": "code",
   "execution_count": 6,
   "id": "covered-storm",
   "metadata": {},
   "outputs": [
    {
     "name": "stdout",
     "output_type": "stream",
     "text": [
      "Enter the path to the dataset CSV file: /Users/islambabaev/Google Drive/Programming/HARA Automation/usdb_analysis/combined_data.csv\n",
      "Enter the path to the mapping CSV file: /Users/islambabaev/Google Drive/Programming/HARA Automation/usdb_analysis/mapping.csv\n"
     ]
    },
    {
     "name": "stderr",
     "output_type": "stream",
     "text": [
      "Loading file: 100%|██████████| 24/24 [00:00<00:00, 4302.59it/s]\n"
     ]
    },
    {
     "name": "stdout",
     "output_type": "stream",
     "text": [
      "Dataset filtering started\n",
      "Dataset filtering completed\n"
     ]
    },
    {
     "name": "stderr",
     "output_type": "stream",
     "text": [
      "Replacing integers with strings:  10%|▉         | 2/21 [00:00<00:01, 16.74it/s]"
     ]
    },
    {
     "name": "stdout",
     "output_type": "stream",
     "text": [
      "Integer dataset file saved\n"
     ]
    },
    {
     "name": "stderr",
     "output_type": "stream",
     "text": [
      "Replacing integers with strings: 100%|██████████| 21/21 [00:00<00:00, 29.26it/s]\n"
     ]
    },
    {
     "name": "stdout",
     "output_type": "stream",
     "text": [
      "String dataset file saved\n"
     ]
    }
   ],
   "source": [
    "import pandas as pd\n",
    "import csv\n",
    "import numpy as np\n",
    "from tqdm import tqdm\n",
    "\n",
    "def load_mapping(file_path, input_columns):\n",
    "    mapping_df = pd.read_csv(file_path, index_col=0)\n",
    "    mapping_dicts = {}\n",
    "    for col in tqdm(mapping_df.columns, desc=\"Loading file\"):\n",
    "        if col in input_columns:\n",
    "            mapping_dicts[col] = mapping_df[col].dropna().to_dict()\n",
    "    return mapping_dicts\n",
    "\n",
    "def should_remove(row, mapping_dicts):\n",
    "    return any(mapping_dict.get(row[col_name]) == \"Unknown\" for col_name, mapping_dict in mapping_dicts.items())\n",
    "\n",
    "def replace_codes(df, mapping_dicts):\n",
    "    for col_name, mapping_dict in tqdm(mapping_dicts.items(), desc=\"Replacing integers with strings\"):\n",
    "        if col_name in df.columns:\n",
    "            df[col_name] = df[col_name].replace(mapping_dict)\n",
    "    return df\n",
    "\n",
    "# Read the input data\n",
    "input_data_file_path = input(\"Enter the path to the dataset CSV file: \")\n",
    "df = pd.read_csv(input_data_file_path)\n",
    "\n",
    "# Load mapping dictionaries from a CSV file\n",
    "mapping_file_path = input(\"Enter the path to the mapping CSV file: \")\n",
    "mapping_dicts = load_mapping(mapping_file_path, df.columns)\n",
    "\n",
    "# Filter out rows with \"Unknown\" values\n",
    "print(\"Dataset filtering started\")\n",
    "df = df[~df.apply(lambda row: should_remove(row, mapping_dicts), axis=1)]\n",
    "print(\"Dataset filtering completed\")\n",
    "\n",
    "# Save integer data\n",
    "df.to_csv('int_dataset.csv', index=False)\n",
    "print(\"Integer dataset file saved\")\n",
    "\n",
    "# Replace numerical codes with string descriptions\n",
    "df = replace_codes(df, mapping_dicts)\n",
    "\n",
    "# Save string data file\n",
    "df.to_csv('str_dataset.csv', index=False)\n",
    "print(\"String dataset file saved\")"
   ]
  },
  {
   "cell_type": "code",
   "execution_count": null,
   "id": "canadian-assessment",
   "metadata": {},
   "outputs": [],
   "source": []
  }
 ],
 "metadata": {
  "kernelspec": {
   "display_name": "Python 3",
   "language": "python",
   "name": "python3"
  },
  "language_info": {
   "codemirror_mode": {
    "name": "ipython",
    "version": 3
   },
   "file_extension": ".py",
   "mimetype": "text/x-python",
   "name": "python",
   "nbconvert_exporter": "python",
   "pygments_lexer": "ipython3",
   "version": "3.9.0"
  }
 },
 "nbformat": 4,
 "nbformat_minor": 5
}
