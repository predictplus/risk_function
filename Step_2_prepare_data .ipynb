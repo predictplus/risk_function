{
 "cells": [
  {
   "cell_type": "code",
   "execution_count": 11,
   "id": "expected-tattoo",
   "metadata": {},
   "outputs": [
    {
     "name": "stdout",
     "output_type": "stream",
     "text": [
      "Enter the numbers of columns used from the vehicle file, separated by space: 14 19 40 42 43 59 60 61 62 63 64 67\n",
      "Enter the numbers of columns used from the accident file separated by space: 5 7 13 21 24 25 28 31 33\n",
      "Enter the path to the vehicle data file: /Users/islambabaev/Google Drive/Programming/HARA Automation/usdb_analysis/prepared_db/VEHICLE.csv\n",
      "Enter the path to the accident data file: /Users/islambabaev/Google Drive/Programming/HARA Automation/usdb_analysis/prepared_db/ACCIDENT.csv\n"
     ]
    },
    {
     "name": "stderr",
     "output_type": "stream",
     "text": [
      "Processing vehicle data: 100%|██████████| 362596/362596 [00:03<00:00, 108404.49lines/s]\n",
      "Processing accident data: 100%|██████████| 204332/204332 [00:01<00:00, 135866.74lines/s]\n",
      "Combining datasets: 100%|██████████| 362597/362597 [00:00<00:00, 968612.08rows/s]\n"
     ]
    },
    {
     "name": "stdout",
     "output_type": "stream",
     "text": [
      "File saved\n"
     ]
    }
   ],
   "source": [
    "import os\n",
    "import numpy as np\n",
    "from tqdm import tqdm\n",
    "\n",
    "# Ask user for node numbers for nodes_veh_list and nodes_acc_list\n",
    "nodes_veh_input = input(\"Enter the numbers of columns used from the vehicle file, separated by space: \")\n",
    "nodes_acc_input = input(\"Enter the numbers of columns used from the accident file separated by space: \")\n",
    "\n",
    "#Vehicle File Columns = 14 19 40 42 43 59 60 61 62 63 64 67\n",
    "#Accident File Columns = 5 7 13 21 24 25 28 31 33\n",
    "\n",
    "# Convert the user input to sets of integers\n",
    "nodes_veh_list = set(map(int, nodes_veh_input.split()))\n",
    "nodes_acc_list = set(map(int, nodes_acc_input.split()))\n",
    "\n",
    "header = []\n",
    "\n",
    "# Ask the user to specify the vehicle data file\n",
    "vehicle_data_file_path = input(\"Enter the path to the vehicle data file: \")\n",
    "#/Users/islambabaev/Google Drive/Programming/HARA Automation/usdb_analysis/prepared_db/VEHICLE.csv\n",
    "\n",
    "# Read the vehicle data file and process the header\n",
    "with open(vehicle_data_file_path, 'r') as vehicle_data_file:\n",
    "    vehicle_data_list = vehicle_data_file.readlines()\n",
    "    header.extend([c for k, c in enumerate(vehicle_data_list[0].split(',')) if k in nodes_veh_list])\n",
    "\n",
    "# Ask the user to specify the accident data file\n",
    "accident_data_file_path = input(\"Enter the path to the accident data file: \")\n",
    "#/Users/islambabaev/Google Drive/Programming/HARA Automation/usdb_analysis/prepared_db/ACCIDENT.csv\n",
    "\n",
    "# Read the accident data file and process the header\n",
    "with open(accident_data_file_path, 'r') as accident_data_file:\n",
    "    accident_data_list = accident_data_file.readlines()\n",
    "    header.extend([c for k, c in enumerate(accident_data_list[0].split(',')) if k in nodes_acc_list])\n",
    "\n",
    "dataset_list = [header]\n",
    "\n",
    "#Processing of vehicle data using a list comprehension\n",
    "veh_indices = {0}.union(nodes_veh_list)\n",
    "dataset_list.extend(\n",
    "    [\n",
    "        [c for k, c in enumerate(line.split(',')) if k in veh_indices]\n",
    "        for line in tqdm(vehicle_data_list[1:], desc=\"Processing vehicle data\", unit=\"lines\")\n",
    "    ]\n",
    ")\n",
    "\n",
    "#Processing of accident data using a list comprehension and dictionary comprehension\n",
    "acc_indices = {0}.union(nodes_acc_list)\n",
    "dataset_dict = {\n",
    "    acc_values[0]: acc_values[1:]\n",
    "    for acc_values in (\n",
    "        [c for k, c in enumerate(line.split(',')) if k in acc_indices]\n",
    "        for line in tqdm(accident_data_list[1:], desc=\"Processing accident data\", unit=\"lines\")\n",
    "    )\n",
    "}\n",
    "\n",
    "for j in tqdm(range(len(dataset_list)), desc=\"Combining datasets\", unit=\"rows\"):\n",
    "    key = str(dataset_list[j][0])\n",
    "    if key in dataset_dict:\n",
    "        dataset_list[j].extend(dataset_dict[key])\n",
    "        dataset_list[j].pop(0)\n",
    "\n",
    "#Saving combined file\n",
    "data = np.asarray(dataset_list)\n",
    "np.savetxt('combined_data.csv', data, delimiter=',', fmt='%s')\n",
    "print(\"File saved\")"
   ]
  },
  {
   "cell_type": "code",
   "execution_count": null,
   "id": "formed-strand",
   "metadata": {},
   "outputs": [],
   "source": []
  }
 ],
 "metadata": {
  "kernelspec": {
   "display_name": "Python 3",
   "language": "python",
   "name": "python3"
  },
  "language_info": {
   "codemirror_mode": {
    "name": "ipython",
    "version": 3
   },
   "file_extension": ".py",
   "mimetype": "text/x-python",
   "name": "python",
   "nbconvert_exporter": "python",
   "pygments_lexer": "ipython3",
   "version": "3.9.0"
  }
 },
 "nbformat": 4,
 "nbformat_minor": 5
}
