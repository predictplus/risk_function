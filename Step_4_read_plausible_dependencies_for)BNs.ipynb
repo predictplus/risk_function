{
 "cells": [
  {
   "cell_type": "code",
   "execution_count": 2,
   "id": "visible-danish",
   "metadata": {},
   "outputs": [
    {
     "name": "stdout",
     "output_type": "stream",
     "text": [
      "Enter the path to the dependencies CSV file: /Users/islambabaev/Google Drive/Programming/HARA Automation/usdb_analysis/prepared_db/CRSS_plausible_dependencies - new.csv\n"
     ]
    },
    {
     "name": "stderr",
     "output_type": "stream",
     "text": [
      "Reading and parsing input file: 100%|██████████| 22/22 [00:00<00:00, 74776.89it/s]\n",
      "Generating list_from: 100%|██████████| 21/21 [00:00<00:00, 93305.49it/s]\n",
      "Generating list_to: 100%|██████████| 21/21 [00:00<00:00, 32768.00it/s]\n"
     ]
    }
   ],
   "source": [
    "import numpy as np\n",
    "from tqdm import tqdm\n",
    "\n",
    "input_file = input(\"Enter the path to the dependencies CSV file: \")\n",
    "output_from_file = \"list_from.csv\"\n",
    "output_to_file = \"list_to.csv\"\n",
    "#/Users/islambabaev/Google Drive/Programming/HARA Automation/usdb_analysis/prepared_db/CRSS_plausible_dependencies - new.csv\n",
    "\n",
    "# Read and parse the input file\n",
    "with open(input_file, 'r') as f:\n",
    "    lines = [line.rstrip().split(',') for line in tqdm(f.readlines(), desc=\"Reading and parsing input file\")]\n",
    "\n",
    "# Extract header and data\n",
    "header = lines.pop(0)\n",
    "data = [line[1:] for line in lines]\n",
    "\n",
    "# Extract types and remove the first element of each row\n",
    "types = [line.pop(0) for line in lines]\n",
    "\n",
    "# Generate list_from and list_to\n",
    "list_from = [types[i] for i, row in tqdm(enumerate(data), desc=\"Generating list_from\", total=len(data)) for j, value in enumerate(row) if value == \"FALSE\"]\n",
    "list_to = [header[j] for i, row in tqdm(enumerate(data), desc=\"Generating list_to\", total=len(data)) for j, value in enumerate(row) if value == \"FALSE\"]\n",
    "\n",
    "# Save the results\n",
    "np.savetxt(output_from_file, list_from, delimiter=',', fmt='%s')\n",
    "np.savetxt(output_to_file, list_to, delimiter=',', fmt='%s')\n",
    "\n"
   ]
  },
  {
   "cell_type": "code",
   "execution_count": null,
   "id": "demographic-ghost",
   "metadata": {},
   "outputs": [],
   "source": []
  }
 ],
 "metadata": {
  "kernelspec": {
   "display_name": "Python 3",
   "language": "python",
   "name": "python3"
  },
  "language_info": {
   "codemirror_mode": {
    "name": "ipython",
    "version": 3
   },
   "file_extension": ".py",
   "mimetype": "text/x-python",
   "name": "python",
   "nbconvert_exporter": "python",
   "pygments_lexer": "ipython3",
   "version": "3.9.0"
  }
 },
 "nbformat": 4,
 "nbformat_minor": 5
}
