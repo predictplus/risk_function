{
 "cells": [
  {
   "cell_type": "code",
   "execution_count": 2,
   "id": "cb0bfa12",
   "metadata": {},
   "outputs": [
    {
     "name": "stdout",
     "output_type": "stream",
     "text": [
      "Enter the path to the folder containing the CSV files: /Users/islambabaev/Google Drive/Programming/HARA Automation/Datasets/crss/db_research/ACCIDENT\n"
     ]
    }
   ],
   "source": [
    "import pandas as pd\n",
    "import glob\n",
    "import os\n",
    "\n",
    "# Path to folder containing CSV files\n",
    "path = input(\"Enter the path to the folder containing the CSV files: \")\n",
    "\n",
    "# Get the name of the folder containing CSV files\n",
    "folder_name = os.path.basename(os.path.normpath(path))\n",
    "\n",
    "# Get a list of all CSV files in folder\n",
    "all_files = glob.glob(path + \"/*.csv\")\n",
    "\n",
    "# Concatenate all CSV files into one dataframe\n",
    "df = pd.concat((pd.read_csv(f) for f in all_files))\n",
    "\n",
    "# Write concatenated dataframe to a new CSV file\n",
    "output_file = folder_name + \".csv\"\n",
    "df.to_csv(output_file, index=False)"
   ]
  },
  {
   "cell_type": "code",
   "execution_count": null,
   "id": "46063b02",
   "metadata": {},
   "outputs": [],
   "source": []
  }
 ],
 "metadata": {
  "kernelspec": {
   "display_name": "Python 3",
   "language": "python",
   "name": "python3"
  },
  "language_info": {
   "codemirror_mode": {
    "name": "ipython",
    "version": 3
   },
   "file_extension": ".py",
   "mimetype": "text/x-python",
   "name": "python",
   "nbconvert_exporter": "python",
   "pygments_lexer": "ipython3",
   "version": "3.9.0"
  }
 },
 "nbformat": 4,
 "nbformat_minor": 5
}
