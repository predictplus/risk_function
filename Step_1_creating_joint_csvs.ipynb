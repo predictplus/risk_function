{
 "cells": [
  {
   "cell_type": "code",
   "execution_count": null,
   "id": "cb0bfa12",
   "metadata": {},
   "outputs": [],
   "source": [
    "import pandas as pd\n",
    "import os\n",
    "import glob\n",
    "import csv\n",
    "\n",
    "file_extension = '.csv'\n",
    "path = input(\"Enter the path to the folder containing the CSV files: \")\n",
    "os.chdir(path)\n",
    "folders = len(next(os.walk(path))[1])\n",
    "dirs = ([name for name in os.listdir(\".\") if os.path.isdir(name)])\n",
    "for j in dirs:\n",
    "    os.chdir(path+j)\n",
    "    all_filenames = [i for i in glob.glob(f\"*{file_extension}\")]\n",
    "    print(all_filenames)\n",
    "    combined_data = pd.concat([pd.read_csv(f, delimiter = ',', low_memory=False, encoding = \"cp1252\") for f in all_filenames])\n",
    "    print(len(combined_data))\n",
    "    os.chdir(path)\n",
    "    combined_data.to_csv(all_filenames[0][0:-9]+'.csv', index = False,)\n",
    "    del(all_filenames,combined_data)"
   ]
  },
  {
   "cell_type": "code",
   "execution_count": null,
   "id": "46063b02",
   "metadata": {},
   "outputs": [],
   "source": []
  }
 ],
 "metadata": {
  "kernelspec": {
   "display_name": "Python 3",
   "language": "python",
   "name": "python3"
  },
  "language_info": {
   "codemirror_mode": {
    "name": "ipython",
    "version": 3
   },
   "file_extension": ".py",
   "mimetype": "text/x-python",
   "name": "python",
   "nbconvert_exporter": "python",
   "pygments_lexer": "ipython3",
   "version": "3.9.0"
  }
 },
 "nbformat": 4,
 "nbformat_minor": 5
}
